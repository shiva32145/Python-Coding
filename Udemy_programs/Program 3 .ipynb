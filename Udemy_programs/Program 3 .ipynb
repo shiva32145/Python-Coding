{
 "cells": [
  {
   "cell_type": "code",
   "execution_count": 2,
   "id": "39925e5c",
   "metadata": {},
   "outputs": [
    {
     "name": "stdout",
     "output_type": "stream",
     "text": [
      "please enter the numbers for the use case and see the magic with separators in it: 124342@!##@12!@$343#122\n",
      "@!##@!@$#\n",
      "[124342, 12, 343, 122]\n"
     ]
    }
   ],
   "source": [
    "# for loop understanding via separators\n",
    "numbers=input('please enter the numbers for the use case and see the magic with separators in it: ')\n",
    "separators=''\n",
    "for num in numbers:\n",
    "    if not num.isnumeric():  # isnumeric :string function checks for if the number is numeric or not to  (return boolean)\n",
    "        separators=separators+num\n",
    "print(separators)\n",
    "\n",
    "values=''.join(num if num not in separators else ' ' for num in numbers).split()\n",
    "print([int(val) for val in values])\n",
    "        "
   ]
  },
  {
   "cell_type": "code",
   "execution_count": 11,
   "id": "9f535865",
   "metadata": {},
   "outputs": [
    {
     "name": "stdout",
     "output_type": "stream",
     "text": [
      " l r i g h t b u t a p a r t f r o m t h e a n i t a t i o n t h e e d i c i n e d u c a t i o n i n e u b l i c r d e r r r i g a t i o n o a d s t h e r e s h a t e r y s t e m a n d u b l i c e a l t h w h a t h a v e t h e o m a n s e v e r d o n e f o r u s\n"
     ]
    }
   ],
   "source": [
    "# Extracting capitals\n",
    "#Write a program to print out the capital letters in the string\n",
    "\n",
    "quote = \"\"\"\n",
    "Alright, but apart from the Sanitation, the Medicine, Education, Wine,\n",
    "Public Order, Irrigation, Roads, the Fresh-Water System,\n",
    "and Public Health, what have the Romans ever done for us?\n",
    "\"\"\"\n",
    " \n",
    "# Use a for loop and an if statement to print just the capitals in the quote above.\n",
    "Capital_letter=''\n",
    "for char in quote:\n",
    "    if char.islower():\n",
    "        Capital_letter=Capital_letter+' '+char # here white space is added for better understanding of the data\n",
    "print(Capital_letter)"
   ]
  },
  {
   "cell_type": "code",
   "execution_count": 8,
   "id": "0710dded",
   "metadata": {},
   "outputs": [
    {
     "name": "stdout",
     "output_type": "stream",
     "text": [
      "12\n",
      "13\n",
      "14\n",
      "15\n",
      "**************************************************\n",
      "0\n",
      "1\n",
      "2\n",
      "3\n",
      "**************************************************\n",
      "0\n",
      "2\n",
      "4\n",
      "6\n",
      "8\n"
     ]
    }
   ],
   "source": [
    "# Range\n",
    "# For loop of python works differently when compared to java and c like languages where \n",
    "\n",
    "\n",
    "for i in range(12,16):   # end value(16) is not included\n",
    "    print(i)\n",
    "print('*'*50)\n",
    "for i in range(4): # if nothing is mentioned it starts with 0 --->can't be used if step value is given\n",
    "    print(i)\n",
    "# wont run===> for i in range(10,2):\n",
    "        #           print(i)\n",
    "# correct way of using step is by specifying starting point as shown below:\n",
    "print('*'*50)\n",
    "for i in range(0,10,2):\n",
    "    print(i)\n",
    "\n",
    "    \n",
    "print('*'*50)\n",
    "# Using negative step size in range function\n",
    "for i in range(10,0,-2):\n",
    "    print(i)\n"
   ]
  },
  {
   "cell_type": "code",
   "execution_count": 16,
   "id": "6a286de6",
   "metadata": {},
   "outputs": [
    {
     "name": "stdout",
     "output_type": "stream",
     "text": [
      "************************************************************\n",
      "0\n",
      "7\n",
      "14\n",
      "21\n",
      "28\n",
      "35\n",
      "42\n",
      "49\n",
      "56\n",
      "63\n",
      "70\n",
      "77\n",
      "84\n",
      "91\n",
      "98\n"
     ]
    }
   ],
   "source": [
    "# For loop with step\n",
    "#Write a program to print out all the numbers from 0 to 100 that are divisible by 7.\n",
    "\n",
    "# # Method_1\n",
    "# for i in range(0,101):\n",
    "#     if i%7==0:\n",
    "#         print(i)\n",
    "print('*'*60)\n",
    "# Method_2 (using step in range)\n",
    "for i in range(0,100,7):\n",
    "    print(i)"
   ]
  },
  {
   "cell_type": "code",
   "execution_count": 21,
   "id": "e89d8d7a",
   "metadata": {},
   "outputs": [
    {
     "name": "stdout",
     "output_type": "stream",
     "text": [
      "1x1=1\n",
      "1x2=2\n",
      "1x3=3\n",
      "1x4=4\n",
      "1x5=5\n",
      "1x6=6\n",
      "1x7=7\n",
      "1x8=8\n",
      "1x9=9\n",
      "1x10=10\n",
      "xxxxxxxxxxxxxxxxxxxxxxxxxxxxxxxxxxxxxxxxxxxxxxxxxxxxxxxxxxxx\n",
      "2x1=2\n",
      "2x2=4\n",
      "2x3=6\n",
      "2x4=8\n",
      "2x5=10\n",
      "2x6=12\n",
      "2x7=14\n",
      "2x8=16\n",
      "2x9=18\n",
      "2x10=20\n",
      "xxxxxxxxxxxxxxxxxxxxxxxxxxxxxxxxxxxxxxxxxxxxxxxxxxxxxxxxxxxx\n",
      "3x1=3\n",
      "3x2=6\n",
      "3x3=9\n",
      "3x4=12\n",
      "3x5=15\n",
      "3x6=18\n",
      "3x7=21\n",
      "3x8=24\n",
      "3x9=27\n",
      "3x10=30\n",
      "xxxxxxxxxxxxxxxxxxxxxxxxxxxxxxxxxxxxxxxxxxxxxxxxxxxxxxxxxxxx\n",
      "4x1=4\n",
      "4x2=8\n",
      "4x3=12\n",
      "4x4=16\n",
      "4x5=20\n",
      "4x6=24\n",
      "4x7=28\n",
      "4x8=32\n",
      "4x9=36\n",
      "4x10=40\n",
      "xxxxxxxxxxxxxxxxxxxxxxxxxxxxxxxxxxxxxxxxxxxxxxxxxxxxxxxxxxxx\n",
      "5x1=5\n",
      "5x2=10\n",
      "5x3=15\n",
      "5x4=20\n",
      "5x5=25\n",
      "5x6=30\n",
      "5x7=35\n",
      "5x8=40\n",
      "5x9=45\n",
      "5x10=50\n",
      "xxxxxxxxxxxxxxxxxxxxxxxxxxxxxxxxxxxxxxxxxxxxxxxxxxxxxxxxxxxx\n",
      "6x1=6\n",
      "6x2=12\n",
      "6x3=18\n",
      "6x4=24\n",
      "6x5=30\n",
      "6x6=36\n",
      "6x7=42\n",
      "6x8=48\n",
      "6x9=54\n",
      "6x10=60\n",
      "xxxxxxxxxxxxxxxxxxxxxxxxxxxxxxxxxxxxxxxxxxxxxxxxxxxxxxxxxxxx\n",
      "7x1=7\n",
      "7x2=14\n",
      "7x3=21\n",
      "7x4=28\n",
      "7x5=35\n",
      "7x6=42\n",
      "7x7=49\n",
      "7x8=56\n",
      "7x9=63\n",
      "7x10=70\n",
      "xxxxxxxxxxxxxxxxxxxxxxxxxxxxxxxxxxxxxxxxxxxxxxxxxxxxxxxxxxxx\n",
      "8x1=8\n",
      "8x2=16\n",
      "8x3=24\n",
      "8x4=32\n",
      "8x5=40\n",
      "8x6=48\n",
      "8x7=56\n",
      "8x8=64\n",
      "8x9=72\n",
      "8x10=80\n",
      "xxxxxxxxxxxxxxxxxxxxxxxxxxxxxxxxxxxxxxxxxxxxxxxxxxxxxxxxxxxx\n",
      "9x1=9\n",
      "9x2=18\n",
      "9x3=27\n",
      "9x4=36\n",
      "9x5=45\n",
      "9x6=54\n",
      "9x7=63\n",
      "9x8=72\n",
      "9x9=81\n",
      "9x10=90\n",
      "xxxxxxxxxxxxxxxxxxxxxxxxxxxxxxxxxxxxxxxxxxxxxxxxxxxxxxxxxxxx\n",
      "10x1=10\n",
      "10x2=20\n",
      "10x3=30\n",
      "10x4=40\n",
      "10x5=50\n",
      "10x6=60\n",
      "10x7=70\n",
      "10x8=80\n",
      "10x9=90\n",
      "10x10=100\n",
      "xxxxxxxxxxxxxxxxxxxxxxxxxxxxxxxxxxxxxxxxxxxxxxxxxxxxxxxxxxxx\n"
     ]
    }
   ],
   "source": [
    "# Nested For loops in python ( i.e one block of code within another block)\n",
    "# write tables from 1 to 10:\n",
    "for i in range(1,11):\n",
    "    for j in range (1,11):\n",
    "        print(f'{i}x{j}={i*j}')\n",
    "    print('x'*60)\n"
   ]
  },
  {
   "cell_type": "code",
   "execution_count": 27,
   "id": "23ac8a88",
   "metadata": {},
   "outputs": [
    {
     "name": "stdout",
     "output_type": "stream",
     "text": [
      "the number is 1\n",
      "the number is 2\n",
      "the number is 3\n",
      "the number is 6\n",
      "the number is 7\n",
      "the number is 8\n",
      "the number is 0\n",
      "**************************************************\n",
      "the number is 1\n",
      "the number is 2\n",
      "the number is 3\n"
     ]
    }
   ],
   "source": [
    "# continue and break to stop the normal flow of the loop, either to jump completely out of it or to stop the iteration\n",
    "list_1=[1,2,3,4,6,7,8,0]\n",
    "for i in list_1:\n",
    "    if i==4:\n",
    "        continue              # when i==4 then loop terminates and jumps back to top therefore print() statement doesnt get\n",
    "                                # executed for the number 4  \n",
    "    print(f'the number is {i}')\n",
    "print('*'*50)\n",
    "\n",
    "for i in list_1:\n",
    "    if i==4:\n",
    "        break          # break: it stops iteration when the condition is met hence items\n",
    "                        #after the element 3 doesn't get printed\n",
    "    print(f'the number is {i}')\n",
    "    \n",
    "    "
   ]
  },
  {
   "cell_type": "code",
   "execution_count": 30,
   "id": "38decf12",
   "metadata": {},
   "outputs": [
    {
     "name": "stdout",
     "output_type": "stream",
     "text": [
      "3\n",
      "**************************************************\n",
      "3\n"
     ]
    }
   ],
   "source": [
    "list_2=['apple', 'pineapple', 'guava', 'mango', 'blueberry']\n",
    "find='mango'\n",
    "find_index=None\n",
    "for index in range(len(list_2)):\n",
    "    if list_2[index]==find:\n",
    "        find_index=index\n",
    "print(find_index)\n",
    "\n",
    "# but the problem with the above code is that it won't stop executing even after getting what we wanted \n",
    "# hence the power wastage , to avoid this we can use the break statement in python\n",
    "print('*'*50)\n",
    "for index in range(len(list_2)):\n",
    "    if list_2[index]==find:\n",
    "        find_index=index\n",
    "        break            # here break will terminate the loop once it find the 'mango'\n",
    "print(find_index)\n",
    "\n"
   ]
  },
  {
   "cell_type": "code",
   "execution_count": 32,
   "id": "5fffb563",
   "metadata": {},
   "outputs": [
    {
     "ename": "NameError",
     "evalue": "name 'find_index_1' is not defined",
     "output_type": "error",
     "traceback": [
      "\u001b[1;31m---------------------------------------------------------------------------\u001b[0m",
      "\u001b[1;31mNameError\u001b[0m                                 Traceback (most recent call last)",
      "Cell \u001b[1;32mIn[32], line 8\u001b[0m\n\u001b[0;32m      6\u001b[0m     \u001b[38;5;28;01mif\u001b[39;00m list_3[index]\u001b[38;5;241m==\u001b[39mfind:\n\u001b[0;32m      7\u001b[0m         find_index_1\u001b[38;5;241m=\u001b[39mindex\n\u001b[1;32m----> 8\u001b[0m \u001b[38;5;28mprint\u001b[39m(\u001b[43mfind_index_1\u001b[49m)\n",
      "\u001b[1;31mNameError\u001b[0m: name 'find_index_1' is not defined"
     ]
    }
   ],
   "source": [
    "# # what if we have to find='orange'(its not present in the list_2) and we do not initialise find_index=None\n",
    "# # if would have thrown an error\n",
    "# list_3=['apple', 'pineapple', 'guava', 'mango', 'blueberry']\n",
    "# find='orange'\n",
    "# for index in range(len(list_3)):\n",
    "#     if list_3[index]==find:\n",
    "#         find_index_1=index\n",
    "# print(find_index_1)\n",
    "\n",
    "\n"
   ]
  },
  {
   "cell_type": "code",
   "execution_count": 43,
   "id": "3e99834f",
   "metadata": {},
   "outputs": [
    {
     "name": "stdout",
     "output_type": "stream",
     "text": [
      "item found at index= 0\n",
      "0\n"
     ]
    }
   ],
   "source": [
    "# hence it is important to assign none or else you can do it like this :\n",
    "list_3=['apple', 'pineapple', 'guava', 'mango', 'blueberry']\n",
    "find='apple'\n",
    "find_index_2=None\n",
    "for index in range(len(list_3)):\n",
    "    if list_3[index]==find:\n",
    "        find_index_2=index\n",
    "        break\n",
    "if find_index_2==None:\n",
    "    print('find value does not exist')\n",
    "else:\n",
    "    print(f'item found at index= {find_index_2}')\n",
    "\n",
    "# Alternatively we can write  first part of the above code as \n",
    "\n",
    "# if find in list_3:\n",
    "#     find_index_4=list_3.index(find)\n",
    "# print(find_index_4)"
   ]
  },
  {
   "cell_type": "code",
   "execution_count": null,
   "id": "cb64238b",
   "metadata": {},
   "outputs": [],
   "source": [
    "# While Loop (iteration till a certain condition is fullfilled)\n",
    "# while <condition>:\n",
    "#        Execute block of code\n",
    "# The condition can be anything that can evaluate to True and False.\n",
    "# As long as the condition is true the loop will get executed\n",
    "# when condition becomes false the loop gets terminated\n",
    "# while loop is used basically when you don't know how many times you have to iterate to get the result\n",
    "    \n",
    "    \n",
    "i=0\n",
    "while i<10:\n",
    "    print(i)\n",
    "    i+=1\n",
    "    \n",
    "available_exits=['north', 'south', 'east','west']\n",
    "choosen_exits=''\n",
    "while choosen_exits not in available_exits:\n",
    "    choosen_exits=input('please try again: ')\n",
    "print('Thank god you are saved')\n",
    "\n",
    "\n"
   ]
  },
  {
   "cell_type": "code",
   "execution_count": 49,
   "id": "aa384a83",
   "metadata": {},
   "outputs": [
    {
     "name": "stdout",
     "output_type": "stream",
     "text": [
      "please try again; Quit\n",
      "Game Over\n",
      "Thank god you are saved\n"
     ]
    }
   ],
   "source": [
    "# type quit to exit from the game \n",
    "\n",
    "available_exits=['north','south','east','west']\n",
    "choosen_exits=''\n",
    "while choosen_exits not in available_exits:\n",
    "    choosen_exits=input('please try again; ')\n",
    "    if choosen_exits.casefold()=='quit':\n",
    "        print('Game Over')\n",
    "        break\n",
    "print('Thank god you are saved')"
   ]
  },
  {
   "cell_type": "code",
   "execution_count": null,
   "id": "560fc209",
   "metadata": {},
   "outputs": [],
   "source": []
  }
 ],
 "metadata": {
  "kernelspec": {
   "display_name": "Python 3 (ipykernel)",
   "language": "python",
   "name": "python3"
  },
  "language_info": {
   "codemirror_mode": {
    "name": "ipython",
    "version": 3
   },
   "file_extension": ".py",
   "mimetype": "text/x-python",
   "name": "python",
   "nbconvert_exporter": "python",
   "pygments_lexer": "ipython3",
   "version": "3.10.9"
  }
 },
 "nbformat": 4,
 "nbformat_minor": 5
}

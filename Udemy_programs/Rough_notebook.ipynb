{
 "cells": [
  {
   "cell_type": "code",
   "execution_count": 2,
   "id": "092aebc1",
   "metadata": {},
   "outputs": [],
   "source": [
    "import mysql.connector\n",
    "from mysql.connector import Error\n",
    "import pandas as pd\n"
   ]
  },
  {
   "cell_type": "code",
   "execution_count": 5,
   "id": "b693a81d",
   "metadata": {},
   "outputs": [],
   "source": [
    "def connection_setter(host_name, user_name, password):\n",
    "    connection=None\n",
    "    try:\n",
    "        connection=mysql.connector.connect(\n",
    "            host=host_name,\n",
    "            user=user_name,\n",
    "            passwd=password)\n",
    "        print('mysql connection was successful')\n",
    "    except: \n",
    "        print(f'error: {Error}')\n",
    "    return connection\n",
    "        "
   ]
  },
  {
   "cell_type": "code",
   "execution_count": 8,
   "id": "d6dcfbab",
   "metadata": {},
   "outputs": [],
   "source": [
    "def database_creator(connection, query):\n",
    "    cursor=conncetion.cursor\n",
    "    try:\n",
    "        cursor.execute(query)\n",
    "        cursor.commit()\n",
    "        print('database was successfully created')\n",
    "    except:\n",
    "        print(f'error:{Error}')\n",
    "    finally:\n",
    "        cursor.close()\n",
    "        \n",
    "        "
   ]
  },
  {
   "cell_type": "code",
   "execution_count": 12,
   "id": "15c7d0b9",
   "metadata": {},
   "outputs": [],
   "source": [
    "def query_reader(conncetion, query):\n",
    "    cursor=connection.cursor\n",
    "    try:\n",
    "        cursor.execute(query)\n",
    "        result=cursor.fetchall()\n",
    "        return result\n",
    "    except:\n",
    "        print(f'Error: {Error}')\n",
    "    finally:\n",
    "        cursor.close()"
   ]
  },
  {
   "cell_type": "code",
   "execution_count": 13,
   "id": "a24a4b8a",
   "metadata": {},
   "outputs": [
    {
     "name": "stdout",
     "output_type": "stream",
     "text": [
      "-8\n"
     ]
    }
   ],
   "source": [
    "print(-30//4)"
   ]
  },
  {
   "cell_type": "code",
   "execution_count": 15,
   "id": "c7747634",
   "metadata": {},
   "outputs": [
    {
     "name": "stdout",
     "output_type": "stream",
     "text": [
      "2\n"
     ]
    }
   ],
   "source": [
    "print(30%4)"
   ]
  },
  {
   "cell_type": "code",
   "execution_count": 18,
   "id": "cd739be6",
   "metadata": {},
   "outputs": [
    {
     "name": "stdout",
     "output_type": "stream",
     "text": [
      "\n"
     ]
    }
   ],
   "source": [
    "parrot = \"Norwegian Blue\"\n",
    "print(parrot[-12:0])"
   ]
  },
  {
   "cell_type": "code",
   "execution_count": 25,
   "id": "f8e26f2f",
   "metadata": {},
   "outputs": [
    {
     "ename": "IndexError",
     "evalue": "string index out of range",
     "output_type": "error",
     "traceback": [
      "\u001b[1;31m---------------------------------------------------------------------------\u001b[0m",
      "\u001b[1;31mIndexError\u001b[0m                                Traceback (most recent call last)",
      "Cell \u001b[1;32mIn[25], line 2\u001b[0m\n\u001b[0;32m      1\u001b[0m empty\u001b[38;5;241m=\u001b[39m\u001b[38;5;124m'\u001b[39m\u001b[38;5;124m'\u001b[39m\n\u001b[1;32m----> 2\u001b[0m \u001b[38;5;28mprint\u001b[39m(\u001b[43mempty\u001b[49m\u001b[43m[\u001b[49m\u001b[38;5;241;43m0\u001b[39;49m\u001b[43m]\u001b[49m)\n",
      "\u001b[1;31mIndexError\u001b[0m: string index out of range"
     ]
    }
   ],
   "source": [
    "empty=''\n",
    "print(empty[0])"
   ]
  },
  {
   "cell_type": "code",
   "execution_count": 26,
   "id": "26c0b1f4",
   "metadata": {},
   "outputs": [
    {
     "name": "stdout",
     "output_type": "stream",
     "text": [
      "Please enter your nameshiva\n",
      "Please enter your age shiva34\n",
      "Sorry to disappoint you\n"
     ]
    }
   ],
   "source": [
    "name=input('Please enter your name')\n",
    "age=int(input('Please enter your age {}'.format(name)))\n",
    "if 18<age<31:\n",
    "    print('you are going on a holiday')\n",
    "else:\n",
    "    print(\"Sorry to disappoint you\")"
   ]
  },
  {
   "cell_type": "code",
   "execution_count": 29,
   "id": "199f647f",
   "metadata": {},
   "outputs": [
    {
     "name": "stdout",
     "output_type": "stream",
     "text": [
      "True\n"
     ]
    }
   ],
   "source": [
    "numeric_check='232'.isnumeric() # output: True\n",
    "print(numeric_check)"
   ]
  },
  {
   "cell_type": "code",
   "execution_count": 36,
   "id": "0c8ea560",
   "metadata": {},
   "outputs": [
    {
     "name": "stdout",
     "output_type": "stream",
     "text": [
      "please enter the numbers for the use case and see the magic with separators in it: 1,1213,424,345353453243\n",
      ",,,\n",
      "[1, 1213, 424, 345353453243]\n"
     ]
    }
   ],
   "source": [
    "numbers=input('please enter the numbers for the use case and see the magic with separators in it: ')\n",
    "separators=''\n",
    "for num in numbers:\n",
    "    if not num.isnumeric():\n",
    "        separators=separators+num\n",
    "print(separators)\n",
    "\n",
    "values=''.join(num if num not in separators else ' ' for num in numbers).split()\n",
    "print([int(val) for val in values])\n",
    "        "
   ]
  },
  {
   "cell_type": "code",
   "execution_count": null,
   "id": "5ad10673",
   "metadata": {},
   "outputs": [],
   "source": []
  }
 ],
 "metadata": {
  "kernelspec": {
   "display_name": "Python 3 (ipykernel)",
   "language": "python",
   "name": "python3"
  },
  "language_info": {
   "codemirror_mode": {
    "name": "ipython",
    "version": 3
   },
   "file_extension": ".py",
   "mimetype": "text/x-python",
   "name": "python",
   "nbconvert_exporter": "python",
   "pygments_lexer": "ipython3",
   "version": "3.10.9"
  }
 },
 "nbformat": 4,
 "nbformat_minor": 5
}

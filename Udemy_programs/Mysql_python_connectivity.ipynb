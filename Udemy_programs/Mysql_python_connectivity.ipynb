{
 "cells": [
  {
   "cell_type": "code",
   "execution_count": 2,
   "id": "0b1c9ee6",
   "metadata": {},
   "outputs": [
    {
     "name": "stdout",
     "output_type": "stream",
     "text": [
      "Collecting mysql-connector-python\n",
      "  Downloading mysql_connector_python-8.1.0-cp310-cp310-win_amd64.whl (10.9 MB)\n",
      "     ---------------------------------------- 10.9/10.9 MB 3.3 MB/s eta 0:00:00\n",
      "Collecting protobuf<=4.21.12,>=4.21.1\n",
      "  Downloading protobuf-4.21.12-cp310-abi3-win_amd64.whl (527 kB)\n",
      "     -------------------------------------- 527.0/527.0 kB 2.5 MB/s eta 0:00:00\n",
      "Installing collected packages: protobuf, mysql-connector-python\n",
      "Successfully installed mysql-connector-python-8.1.0 protobuf-4.21.12\n",
      "Note: you may need to restart the kernel to use updated packages.\n"
     ]
    }
   ],
   "source": [
    "# install mysql python connector\n",
    "# Run only once \n",
    "#pip install mysql-connector-python"
   ]
  },
  {
   "cell_type": "code",
   "execution_count": 1,
   "id": "5cdb763a",
   "metadata": {},
   "outputs": [],
   "source": [
    "# import necessary libraries\n",
    "import mysql.connector\n",
    "from mysql.connector import Error  # for finding the error\n",
    "import pandas as pd                # for dataframe operations"
   ]
  },
  {
   "cell_type": "code",
   "execution_count": 2,
   "id": "91828034",
   "metadata": {},
   "outputs": [],
   "source": [
    "# Creating a connection function to connect  with mysql,then use it  to create a database  \n",
    "def set_sql_connection(host_name,user_name,user_password):\n",
    "    connection=None\n",
    "    try:\n",
    "        connection=mysql.connector.connect(\n",
    "            host=host_name,\n",
    "            user=user_name,\n",
    "            passwd=user_password\n",
    "        )\n",
    "        print('mysql connection to python was successful')\n",
    "    except Error as err:\n",
    "        print(f'Error: {err}')\n",
    "    return connection"
   ]
  },
  {
   "cell_type": "code",
   "execution_count": 3,
   "id": "9cdf6102",
   "metadata": {},
   "outputs": [
    {
     "name": "stdout",
     "output_type": "stream",
     "text": [
      "mysql connection to python was successful\n"
     ]
    }
   ],
   "source": [
    "# set connection to create database\n",
    "user_password ='SUNshwsha1#'\n",
    "\n",
    "connection=set_sql_connection('localhost','devuser',user_password)"
   ]
  },
  {
   "cell_type": "code",
   "execution_count": 6,
   "id": "4592a17c",
   "metadata": {},
   "outputs": [],
   "source": [
    "# Now we are creating  function to create new database in mysql\n",
    "db= 'mysql_python'\n",
    "def create_database(connection, query):\n",
    "    cursor=connection.cursor()\n",
    "    try:\n",
    "        cursor.execute(query)\n",
    "        cursor.commit(query)\n",
    "        print('database was successfully created')\n",
    "    except Error as err:\n",
    "        print(f'Error:{err}')\n",
    "    finally:\n",
    "        cursor.close()\n",
    "\n",
    "        "
   ]
  },
  {
   "cell_type": "code",
   "execution_count": 5,
   "id": "3d9ecc41",
   "metadata": {},
   "outputs": [
    {
     "name": "stdout",
     "output_type": "stream",
     "text": [
      "Error:1007 (HY000): Can't create database 'mysql_python'; database exists\n"
     ]
    }
   ],
   "source": [
    "#  using function to create database\n",
    "create_database_query=\"\"\" create database mysql_python;\"\"\"\n",
    "create_database(connection,create_database_query)"
   ]
  },
  {
   "cell_type": "code",
   "execution_count": 27,
   "id": "f0c0d0ee",
   "metadata": {},
   "outputs": [],
   "source": [
    "# creating function to connect with the created database\n",
    "\n",
    "def create_database_connection(host_name,user_name,user_password,database_name):\n",
    "    connection=None\n",
    "    try:\n",
    "        connection=mysql.connector.connect(\n",
    "            host=host_name,\n",
    "            user=user_name,\n",
    "            passwd=user_password,\n",
    "            database=database_name\n",
    "        )\n",
    "        print('connection to database was successful')\n",
    "    except Error as err:\n",
    "        print(f'Error: {err}')\n",
    "    return connection  "
   ]
  },
  {
   "cell_type": "code",
   "execution_count": 28,
   "id": "808c68f4",
   "metadata": {},
   "outputs": [
    {
     "name": "stdout",
     "output_type": "stream",
     "text": [
      "connection to database was successful\n"
     ]
    }
   ],
   "source": [
    "# establishing connection with the database\n",
    "connection=create_database_connection('localhost','devuser',user_password,db)"
   ]
  },
  {
   "cell_type": "code",
   "execution_count": 33,
   "id": "1936d54b",
   "metadata": {},
   "outputs": [],
   "source": [
    "# creating function to execute and commit query\n",
    "def query_executor(connection,query):\n",
    "    cursor=connection.cursor()\n",
    "    try:\n",
    "        cursor.execute(query)\n",
    "        connection.commit()\n",
    "        print('query execution was successful')\n",
    "    except Error as err:\n",
    "        print(f'Error: {err}')"
   ]
  },
  {
   "cell_type": "code",
   "execution_count": 34,
   "id": "86ab07aa",
   "metadata": {},
   "outputs": [
    {
     "name": "stdout",
     "output_type": "stream",
     "text": [
      "query execution was successful\n"
     ]
    }
   ],
   "source": [
    "# Running the Query to create new table\n",
    "query_1=''' create table students(id int primary key auto_increment, name varchar(50),marks int);'''\n",
    "query_executor(connection,query_1)\n",
    "\n",
    "\n"
   ]
  },
  {
   "cell_type": "code",
   "execution_count": 36,
   "id": "274dbe4a",
   "metadata": {},
   "outputs": [
    {
     "name": "stdout",
     "output_type": "stream",
     "text": [
      "query execution was successful\n"
     ]
    }
   ],
   "source": [
    "# running the  Query to insert values into the table created\n",
    "query_2=''' insert into students(name,marks) values \n",
    "('shiva',80),('mukesh',90),('shivam',60),('x',70),('y',80),('z',90);\n",
    ";'''\n",
    "query_executor(connection,query_2)\n",
    "\n"
   ]
  },
  {
   "cell_type": "code",
   "execution_count": 37,
   "id": "c4abe931",
   "metadata": {},
   "outputs": [],
   "source": [
    "# creating function to read the data from mysql in python\n",
    "def read_executor(connection,query):\n",
    "    cursor=connection.cursor()\n",
    "    result=None\n",
    "    try:\n",
    "        cursor.execute(query)\n",
    "        result=cursor.fetchall()\n",
    "        return result\n",
    "    except Error as err:\n",
    "        print(f'Error: {err}')\n",
    "        \n",
    "    \n",
    "        "
   ]
  },
  {
   "cell_type": "code",
   "execution_count": 39,
   "id": "041bea6b",
   "metadata": {},
   "outputs": [
    {
     "name": "stdout",
     "output_type": "stream",
     "text": [
      "(1, 'shiva', 80)\n",
      "(2, 'mukesh', 90)\n",
      "(3, 'shivam', 60)\n",
      "(4, 'x', 70)\n",
      "(5, 'y', 80)\n",
      "(6, 'z', 90)\n"
     ]
    }
   ],
   "source": [
    "# reading the query output in python\n",
    "query_3=''' select  * from students'''\n",
    "results=read_executor(connection,query_3)\n",
    "for result in results:\n",
    "    print(result)"
   ]
  },
  {
   "cell_type": "code",
   "execution_count": 44,
   "id": "d406d34e",
   "metadata": {},
   "outputs": [
    {
     "data": {
      "text/html": [
       "<div>\n",
       "<style scoped>\n",
       "    .dataframe tbody tr th:only-of-type {\n",
       "        vertical-align: middle;\n",
       "    }\n",
       "\n",
       "    .dataframe tbody tr th {\n",
       "        vertical-align: top;\n",
       "    }\n",
       "\n",
       "    .dataframe thead th {\n",
       "        text-align: right;\n",
       "    }\n",
       "</style>\n",
       "<table border=\"1\" class=\"dataframe\">\n",
       "  <thead>\n",
       "    <tr style=\"text-align: right;\">\n",
       "      <th></th>\n",
       "      <th>Student_id</th>\n",
       "      <th>Student_name</th>\n",
       "      <th>Student_marks</th>\n",
       "    </tr>\n",
       "  </thead>\n",
       "  <tbody>\n",
       "    <tr>\n",
       "      <th>0</th>\n",
       "      <td>1</td>\n",
       "      <td>shiva</td>\n",
       "      <td>80</td>\n",
       "    </tr>\n",
       "    <tr>\n",
       "      <th>1</th>\n",
       "      <td>2</td>\n",
       "      <td>mukesh</td>\n",
       "      <td>90</td>\n",
       "    </tr>\n",
       "    <tr>\n",
       "      <th>2</th>\n",
       "      <td>3</td>\n",
       "      <td>shivam</td>\n",
       "      <td>60</td>\n",
       "    </tr>\n",
       "    <tr>\n",
       "      <th>3</th>\n",
       "      <td>4</td>\n",
       "      <td>x</td>\n",
       "      <td>70</td>\n",
       "    </tr>\n",
       "    <tr>\n",
       "      <th>4</th>\n",
       "      <td>5</td>\n",
       "      <td>y</td>\n",
       "      <td>80</td>\n",
       "    </tr>\n",
       "    <tr>\n",
       "      <th>5</th>\n",
       "      <td>6</td>\n",
       "      <td>z</td>\n",
       "      <td>90</td>\n",
       "    </tr>\n",
       "  </tbody>\n",
       "</table>\n",
       "</div>"
      ],
      "text/plain": [
       "   Student_id Student_name  Student_marks\n",
       "0           1        shiva             80\n",
       "1           2       mukesh             90\n",
       "2           3       shivam             60\n",
       "3           4            x             70\n",
       "4           5            y             80\n",
       "5           6            z             90"
      ]
     },
     "metadata": {},
     "output_type": "display_data"
    }
   ],
   "source": [
    "# Put the result in form of a database:\n",
    "\n",
    "columns=['Student_id','Student_name','Student_marks']\n",
    "for_db =[]\n",
    "\n",
    "for result in results:\n",
    "    resutl=list(result)\n",
    "    for_db.append(result)\n",
    "    \n",
    "df=pd.DataFrame(for_db,columns=columns)\n",
    "display(df)\n"
   ]
  },
  {
   "cell_type": "code",
   "execution_count": null,
   "id": "e3894d3f",
   "metadata": {},
   "outputs": [],
   "source": []
  },
  {
   "cell_type": "code",
   "execution_count": null,
   "id": "54bf960c",
   "metadata": {},
   "outputs": [],
   "source": []
  }
 ],
 "metadata": {
  "kernelspec": {
   "display_name": "Python 3 (ipykernel)",
   "language": "python",
   "name": "python3"
  },
  "language_info": {
   "codemirror_mode": {
    "name": "ipython",
    "version": 3
   },
   "file_extension": ".py",
   "mimetype": "text/x-python",
   "name": "python",
   "nbconvert_exporter": "python",
   "pygments_lexer": "ipython3",
   "version": "3.10.9"
  }
 },
 "nbformat": 4,
 "nbformat_minor": 5
}

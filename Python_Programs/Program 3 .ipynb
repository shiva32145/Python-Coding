{
 "cells": [
  {
   "cell_type": "code",
   "execution_count": 1,
   "id": "39925e5c",
   "metadata": {},
   "outputs": [
    {
     "name": "stdout",
     "output_type": "stream",
     "text": [
      "please enter the numbers for the use case and see the magic with separators in it: 1m=fndsaf34=3m,'5'\n",
      "m=fndsaf=m,''\n",
      "[1, 34, 3, 5]\n"
     ]
    }
   ],
   "source": [
    "# for loop understanding via separators\n",
    "numbers=input('please enter the numbers for the use case and see the magic with separators in it: ')\n",
    "separators=''\n",
    "for num in numbers:\n",
    "    if not num.isnumeric():  # isnumeric :string function checks for if the number is numeric or not to  (return boolean)\n",
    "        separators=separators+num\n",
    "print(separators)\n",
    "\n",
    "values=''.join(num if num not in separators else ' ' for num in numbers).split()\n",
    "print([int(val) for val in values])\n",
    "        "
   ]
  },
  {
   "cell_type": "code",
   "execution_count": 3,
   "id": "9f535865",
   "metadata": {},
   "outputs": [
    {
     "name": "stdout",
     "output_type": "stream",
     "text": [
      " A S M E W P O I R F W S P H R\n"
     ]
    }
   ],
   "source": [
    "# Extracting capitals\n",
    "#Write a program to print out the capital letters in the string\n",
    "\n",
    "quote = \"\"\"\n",
    "Alright, but apart from the Sanitation, the Medicine, Education, Wine,\n",
    "Public Order, Irrigation, Roads, the Fresh-Water System,\n",
    "and Public Health, what have the Romans ever done for us?\n",
    "\"\"\"\n",
    " \n",
    "# Use a for loop and an if statement to print just the capitals in the quote above.\n",
    "Capital_letter=''\n",
    "for char in quote:\n",
    "    if  char.isupper():\n",
    "        Capital_letter=Capital_letter+' '+char # here white space is added for better understanding of the data\n",
    "print(Capital_letter)"
   ]
  },
  {
   "cell_type": "code",
   "execution_count": 8,
   "id": "0710dded",
   "metadata": {},
   "outputs": [
    {
     "name": "stdout",
     "output_type": "stream",
     "text": [
      "12\n",
      "13\n",
      "14\n",
      "15\n",
      "**************************************************\n",
      "0\n",
      "1\n",
      "2\n",
      "3\n",
      "**************************************************\n",
      "0\n",
      "2\n",
      "4\n",
      "6\n",
      "8\n"
     ]
    }
   ],
   "source": [
    "# Range\n",
    "# For loop of python works differently when compared to java and c like languages where \n",
    "\n",
    "\n",
    "for i in range(12,16):   # end value(16) is not included\n",
    "    print(i)\n",
    "print('*'*50)\n",
    "for i in range(4): # if nothing is mentioned it starts with 0 --->can't be used if step value is given\n",
    "    print(i)\n",
    "# wont run===> for i in range(10,2):\n",
    "        #           print(i)\n",
    "# correct way of using step is by specifying starting point as shown below:\n",
    "print('*'*50)\n",
    "for i in range(0,10,2):\n",
    "    print(i)\n",
    "\n",
    "    \n",
    "print('*'*50)\n",
    "# Using negative step size in range function\n",
    "for i in range(10,0,-2):\n",
    "    print(i)\n"
   ]
  },
  {
   "cell_type": "code",
   "execution_count": 16,
   "id": "6a286de6",
   "metadata": {},
   "outputs": [
    {
     "name": "stdout",
     "output_type": "stream",
     "text": [
      "************************************************************\n",
      "0\n",
      "7\n",
      "14\n",
      "21\n",
      "28\n",
      "35\n",
      "42\n",
      "49\n",
      "56\n",
      "63\n",
      "70\n",
      "77\n",
      "84\n",
      "91\n",
      "98\n"
     ]
    }
   ],
   "source": [
    "# For loop with step\n",
    "#Write a program to print out all the numbers from 0 to 100 that are divisible by 7.\n",
    "\n",
    "# # Method_1\n",
    "# for i in range(0,101):\n",
    "#     if i%7==0:\n",
    "#         print(i)\n",
    "print('*'*60)\n",
    "# Method_2 (using step in range)\n",
    "for i in range(0,100,7):\n",
    "    print(i)"
   ]
  },
  {
   "cell_type": "code",
   "execution_count": 5,
   "id": "e89d8d7a",
   "metadata": {},
   "outputs": [
    {
     "name": "stdout",
     "output_type": "stream",
     "text": [
      "1x1=1\n",
      "1x2=2\n",
      "1x3=3\n",
      "1x4=4\n",
      "1x5=5\n",
      "1x6=6\n",
      "1x7=7\n",
      "1x8=8\n",
      "1x9=9\n",
      "1x10=10\n",
      "xxxxxxxxxxxxxxxxxxxxxxxxxxxxxxxxxxxxxxxxxxxxxxxxxxxxxxxxxxxx\n",
      "2x1=2\n",
      "2x2=4\n",
      "2x3=6\n",
      "2x4=8\n",
      "2x5=10\n",
      "2x6=12\n",
      "2x7=14\n",
      "2x8=16\n",
      "2x9=18\n",
      "2x10=20\n",
      "xxxxxxxxxxxxxxxxxxxxxxxxxxxxxxxxxxxxxxxxxxxxxxxxxxxxxxxxxxxx\n"
     ]
    }
   ],
   "source": [
    "# Nested For loops in python ( i.e one block of code within another block)\n",
    "# write tables from 1 to 10:\n",
    "for i in range(1,3):\n",
    "    for j in range (1,11):\n",
    "        print(f'{i}x{j}={i*j}')\n",
    "    print('x'*60)\n"
   ]
  },
  {
   "cell_type": "code",
   "execution_count": 27,
   "id": "23ac8a88",
   "metadata": {},
   "outputs": [
    {
     "name": "stdout",
     "output_type": "stream",
     "text": [
      "the number is 1\n",
      "the number is 2\n",
      "the number is 3\n",
      "the number is 6\n",
      "the number is 7\n",
      "the number is 8\n",
      "the number is 0\n",
      "**************************************************\n",
      "the number is 1\n",
      "the number is 2\n",
      "the number is 3\n"
     ]
    }
   ],
   "source": [
    "# continue and break to stop the normal flow of the loop, either to jump completely out of it or to stop the iteration\n",
    "list_1=[1,2,3,4,6,7,8,0]\n",
    "for i in list_1:\n",
    "    if i==4:\n",
    "        continue              # when i==4 then loop terminates and jumps back to top therefore print() statement doesnt get\n",
    "                                # executed for the number 4  \n",
    "    print(f'the number is {i}')\n",
    "print('*'*50)\n",
    "\n",
    "for i in list_1:\n",
    "    if i==4:\n",
    "        break          # break: it stops iteration when the condition is met hence items\n",
    "                        #after the element 3 doesn't get printed\n",
    "    print(f'the number is {i}')\n",
    "    \n",
    "    "
   ]
  },
  {
   "cell_type": "code",
   "execution_count": 6,
   "id": "38decf12",
   "metadata": {},
   "outputs": [
    {
     "name": "stdout",
     "output_type": "stream",
     "text": [
      "3\n",
      "**************************************************\n",
      "3\n"
     ]
    }
   ],
   "source": [
    "list_2=['apple', 'pineapple', 'guava', 'mango', 'blueberry']\n",
    "find='mango'\n",
    "find_index=None\n",
    "for index in range(len(list_2)):\n",
    "    if list_2[index]==find:\n",
    "        find_index=index\n",
    "print(find_index)\n",
    "\n",
    "# but the problem with the above code is that it won't stop executing even after getting what we wanted \n",
    "# hence the power wastage , to avoid this we can use the break statement in python\n",
    "print('*'*50)\n",
    "find_index=None\n",
    "for index in range(len(list_2)):\n",
    "    if list_2[index]==find:\n",
    "        find_index=index\n",
    "        break              # here break will terminate the loop once it find the 'mango'\n",
    "print(find_index)\n",
    "\n"
   ]
  },
  {
   "cell_type": "code",
   "execution_count": 7,
   "id": "5fffb563",
   "metadata": {},
   "outputs": [],
   "source": [
    "# # what if we have to find='orange'(its not present in the list_2) and we do not initialise find_index=None\n",
    "# # if would have thrown an error\n",
    "# list_3=['apple', 'pineapple', 'guava', 'mango', 'blueberry']\n",
    "# find='orange'\n",
    "# for index in range(len(list_3)):\n",
    "#     if list_3[index]==find:\n",
    "#         find_index_1=index\n",
    "# print(find_index_1)\n",
    "\n",
    "\n"
   ]
  },
  {
   "cell_type": "code",
   "execution_count": 8,
   "id": "3e99834f",
   "metadata": {},
   "outputs": [
    {
     "name": "stdout",
     "output_type": "stream",
     "text": [
      "find value does not exist\n"
     ]
    }
   ],
   "source": [
    "# hence it is important to assign none or else you can do it like this :\n",
    "list_3=['apple', 'pineapple', 'guava', 'mango', 'blueberry']\n",
    "find='strawberry'\n",
    "find_index_2=None\n",
    "for index in range(len(list_3)):\n",
    "    if list_3[index]==find:\n",
    "        find_index_2=index\n",
    "        break\n",
    "if find_index_2==None:\n",
    "    print('find value does not exist')\n",
    "else:\n",
    "    print(f'item found at index= {find_index_2}')\n",
    "\n",
    "# Alternatively we can write  first part of the above code as \n",
    "\n",
    "# if find in list_3:\n",
    "#     find_index_4=list_3.index(find)\n",
    "# print(find_index_4)"
   ]
  },
  {
   "cell_type": "code",
   "execution_count": null,
   "id": "cb64238b",
   "metadata": {},
   "outputs": [],
   "source": [
    "# While Loop (iteration till a certain condition is fullfilled)\n",
    "# while <condition>:\n",
    "#        Execute block of code\n",
    "# The condition can be anything that can evaluate to True and False.\n",
    "# As long as the condition is true the loop will get executed\n",
    "# when condition becomes false the loop gets terminated\n",
    "# while loop is used basically when you don't know how many times you have to iterate to get the result\n",
    "    \n",
    "    \n",
    "i=0\n",
    "while i<10:\n",
    "    print(i)\n",
    "    i+=1\n",
    "    \n",
    "available_exits=['north', 'south', 'east','west']\n",
    "choosen_exits=''\n",
    "while choosen_exits not in available_exits:\n",
    "    choosen_exits=input('please try again: ')\n",
    "print('Thank god you are saved')\n",
    "\n",
    "\n"
   ]
  },
  {
   "cell_type": "code",
   "execution_count": 10,
   "id": "aa384a83",
   "metadata": {},
   "outputs": [
    {
     "name": "stdout",
     "output_type": "stream",
     "text": [
      "please try again; north\n",
      "Thank god you are saved\n"
     ]
    }
   ],
   "source": [
    "# type quit to exit from the game \n",
    "\n",
    "available_exits=['north','south','east','west']\n",
    "choosen_exits=''\n",
    "while choosen_exits not in available_exits:\n",
    "    choosen_exits=input('please try again; ')\n",
    "    if choosen_exits.casefold()=='quit':\n",
    "        print('Game Over')\n",
    "        break\n",
    "print('Thank god you are saved')"
   ]
  },
  {
   "cell_type": "code",
   "execution_count": 29,
   "id": "560fc209",
   "metadata": {},
   "outputs": [
    {
     "name": "stdout",
     "output_type": "stream",
     "text": [
      "90\n",
      "please guess:80\n",
      "Please guess higher\n",
      "please guess:90\n",
      "you have guessed correctly or your game was over\n"
     ]
    }
   ],
   "source": [
    "# The random module and Import \n",
    "import random\n",
    "highest_value=100\n",
    "lowest_value=1\n",
    "answer=random.randint(lowest_value,highest_value) ### note in randint function both value are included which is unlike python\n",
    "print(answer)\n",
    "guessed_answer=None\n",
    "while guessed_answer!=answer:\n",
    "    guessed_answer=int(input('please guess:'))\n",
    "    if guessed_answer==0:\n",
    "        print('game_over buddy')\n",
    "        break\n",
    "        \n",
    "    elif guessed_answer>answer:\n",
    "        print('please guess lower')\n",
    "    elif guessed_answer<answer:\n",
    "        print('Please guess higher')\n",
    "print('you have guessed correctly or your game was over')\n",
    "    \n",
    "    \n",
    "\n"
   ]
  },
  {
   "cell_type": "markdown",
   "id": "5674bdc3",
   "metadata": {},
   "source": [
    "# in continuation of the above step\n",
    "### Python binary chop \n",
    "##### Binary Search works by reducing the number of guess to half each time \n",
    "##### We start by guessing the midpoint of highest and lowest value \n",
    "##### then for next guess we choose : new_low +(new_high-new_low)//2\n",
    "#### repeating the same step till we get the answer\n",
    "\n",
    "#### Note: for the below image correct_guess_answer = 7 \n",
    "![no_image](Binary_chop.png)\n",
    "## range gets updated using the following formula Range\n",
    "\n",
    "#### note:for number bw 1-10 we need 4  guesses while for 1-1023 we need 10 guess at max\n",
    "#### idea used is 2^4 and 2^10 respectively ( note 1-15 can be guessed within 4 guesses but we are using 1-10 for understanding)\n",
    "\n",
    "\n",
    "binary search is the most efficient way of finding an item in the ordered list.\n",
    "    It forms the basis of the data structures that database program such as SQLite and Oracle use for storing the data types.\n",
    "    that allows very fast searching of the data"
   ]
  },
  {
   "cell_type": "code",
   "execution_count": 40,
   "id": "3f178ccb",
   "metadata": {},
   "outputs": [
    {
     "name": "stdout",
     "output_type": "stream",
     "text": [
      "please think of a number between 1 and 1000\n",
      "please Enter to start : 40\n",
      "\t Guessing in the range of 1- 1000\n",
      "my guess is 500. Should I guess higher or lower? Enter h or l, or c if my guess was correct:  l\n",
      "\t Guessing in the range of 1- 499\n",
      "my guess is 250. Should I guess higher or lower? Enter h or l, or c if my guess was correct:  l\n",
      "\t Guessing in the range of 1- 249\n",
      "my guess is 125. Should I guess higher or lower? Enter h or l, or c if my guess was correct:  l\n",
      "\t Guessing in the range of 1- 124\n",
      "my guess is 62. Should I guess higher or lower? Enter h or l, or c if my guess was correct:  l\n",
      "\t Guessing in the range of 1- 61\n",
      "my guess is 31. Should I guess higher or lower? Enter h or l, or c if my guess was correct:  l\n",
      "\t Guessing in the range of 1- 30\n",
      "my guess is 15. Should I guess higher or lower? Enter h or l, or c if my guess was correct:  h\n",
      "\t Guessing in the range of 16- 30\n",
      "my guess is 23. Should I guess higher or lower? Enter h or l, or c if my guess was correct:  h\n",
      "\t Guessing in the range of 24- 30\n",
      "my guess is 27. Should I guess higher or lower? Enter h or l, or c if my guess was correct:  h\n",
      "\t Guessing in the range of 28- 30\n",
      "my guess is 29. Should I guess higher or lower? Enter h or l, or c if my guess was correct:  c\n",
      "I got in 9 guesses!\n"
     ]
    }
   ],
   "source": [
    "# The low high game based on the binary search\n",
    "\n",
    "low=1\n",
    "high=1000\n",
    "print(f'please think of a number between {low} and {high}')\n",
    "input('please Enter to start : ')\n",
    "guesses=1\n",
    "while True: \n",
    "    print(f'\\t Guessing in the range of {low}- {high}')\n",
    "    guess = low +(high-low)//2\n",
    "    high_low=input(f'my guess is {guess}. Should I guess higher or lower?'\n",
    "                   ' Enter h or l, or c if my guess was correct:  ').casefold()\n",
    "    if high_low=='h':\n",
    "        low=guess+1\n",
    "    elif high_low=='l':\n",
    "        high=guess-1\n",
    "    elif high_low=='c':\n",
    "        print(f'I got in {guesses} guesses!')\n",
    "        break\n",
    "    guesses=guesses+1"
   ]
  },
  {
   "cell_type": "code",
   "execution_count": 41,
   "id": "628bdacd",
   "metadata": {},
   "outputs": [
    {
     "name": "stdout",
     "output_type": "stream",
     "text": [
      "8\n",
      "20\n",
      "343\n"
     ]
    }
   ],
   "source": [
    "# Augmented Assignment\n",
    "#In Python, augmented assignment is a shorthand syntax that combines an assignment statement with an operation. \n",
    "#It allows you to perform an operation on a variable and reassign the result to the same variable in a concise manner.\n",
    "#Augmented assignment is particularly useful for increasing readability and reducing redundancy in your code.\n",
    "#   variable operator= expression\n",
    "\n",
    "# Regular assignment\n",
    "x = 5\n",
    "\n",
    "# Augmented assignment\n",
    "x += 3  # Equivalent to x = x + 3\n",
    "print(x)  # Output: 8\n",
    "\n",
    "y = 10\n",
    "y *= 2  # Equivalent to y = y * 2\n",
    "print(y)  # Output: 20\n",
    "\n",
    "z = 7\n",
    "z **= 3  # Equivalent to z = z ** 3\n",
    "print(z)  # Output: 343\n",
    "\n"
   ]
  },
  {
   "cell_type": "code",
   "execution_count": 44,
   "id": "cd190039",
   "metadata": {},
   "outputs": [
    {
     "name": "stdout",
     "output_type": "stream",
     "text": [
      "[1, 3, 4, 5]\n"
     ]
    }
   ],
   "source": [
    "creat=list((1,3,4,5))\n",
    "print(creat)"
   ]
  },
  {
   "cell_type": "code",
   "execution_count": null,
   "id": "2ceed976",
   "metadata": {},
   "outputs": [],
   "source": []
  }
 ],
 "metadata": {
  "kernelspec": {
   "display_name": "Python 3 (ipykernel)",
   "language": "python",
   "name": "python3"
  },
  "language_info": {
   "codemirror_mode": {
    "name": "ipython",
    "version": 3
   },
   "file_extension": ".py",
   "mimetype": "text/x-python",
   "name": "python",
   "nbconvert_exporter": "python",
   "pygments_lexer": "ipython3",
   "version": "3.10.9"
  }
 },
 "nbformat": 4,
 "nbformat_minor": 5
}

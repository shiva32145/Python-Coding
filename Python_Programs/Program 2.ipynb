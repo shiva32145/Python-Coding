{
 "cells": [
  {
   "cell_type": "code",
   "execution_count": null,
   "id": "ed7bf1d6",
   "metadata": {},
   "outputs": [],
   "source": [
    "# Note= input function always return string type\n",
    "name=input(\"Please enter your name?\")\n",
    "b=input('what is your age  {} '.format(name))\n",
    "print(type(b))\n",
    "\n",
    "# ValueError: invalid literal for int() with base 10: '23.0'\n",
    "name=input(\"Please enter your name?\")\n",
    "b=int(input('what is your age  {} '.format(name)))\n",
    "print(type(b))\n"
   ]
  },
  {
   "cell_type": "code",
   "execution_count": null,
   "id": "9724e852",
   "metadata": {},
   "outputs": [],
   "source": [
    "# if statement block \n",
    "# Write a program to take age input and print whether the user in elligible to vote or not\n",
    "name=input(\"Please enter your name\")\n",
    "age=int(input(\"Please enter your age {}\".format(name)))\n",
    "if  age>=18:\n",
    "    print(\"you are eligible to vote\")\n",
    "else:\n",
    "    print(\"Pleae comeback in {} years\".format(18-age))\n",
    "    \n",
    "    \n",
    "print(\"_\"*80)\n",
    "\n",
    "if age<18:\n",
    "    print(\"Please comeback in {} years\".format(18-age))\n",
    "else: \n",
    "    print(\"you are eligible to vote\")"
   ]
  },
  {
   "cell_type": "code",
   "execution_count": null,
   "id": "cc79a130",
   "metadata": {},
   "outputs": [],
   "source": [
    "# elif statement( Note if is before elif and else is last)\n",
    "age=int(input(\"please enter the age\"))\n",
    "if 10<age<18:\n",
    "    print(\"please comeback in {}\".format(18-age))\n",
    "elif  age<=10:\n",
    "    print(\"what's wrong with you\")\n",
    "else:\n",
    "    print(\"you are elgible to vote\")\n",
    "    "
   ]
  },
  {
   "cell_type": "markdown",
   "id": "0dff816d",
   "metadata": {},
   "source": [
    "## guessing program"
   ]
  },
  {
   "cell_type": "code",
   "execution_count": null,
   "id": "a36e439a",
   "metadata": {},
   "outputs": [],
   "source": [
    "# Program 2 check two guesses\n",
    "answer=5\n",
    "guess=int(input(\"Please enter a number between 1 to 10= \"))\n",
    "if guess<answer:\n",
    "    print(\"Guess a little higher\")\n",
    "    guess=int(input(\"Please enter your second guess  now= \"))\n",
    "    if guess==answer:\n",
    "        print(\"you have guessed this time correctly\")\n",
    "    else: print(\"you havent guessed correctly\")\n",
    "elif guess>answer:\n",
    "    print(\"Guess a little lower\")\n",
    "    guess=int(input(\"Please enter your second guess now= \"))\n",
    "    if guess==answer:\n",
    "        print(\"you have guessed correctly\")\n",
    "    else:\n",
    "        print('you havent guessed correctly')\n",
    "else:\n",
    "    print(\"you have guessed in first time\")\n",
    "    "
   ]
  },
  {
   "cell_type": "code",
   "execution_count": null,
   "id": "61da4abf",
   "metadata": {},
   "outputs": [],
   "source": [
    "answer=5\n",
    "guess=int(input(\"Please enter a number between 1 to 10= \"))\n",
    "if guess==answer:\n",
    "    print(\"you have guessed correctly in first time\")\n",
    "else:\n",
    "    if guess<answer:\n",
    "        print(\"guess a little higher\")\n",
    "    else:\n",
    "        print(\"guess a little lower\")\n",
    "    guess_1=int(input(\"please enter your second guess= \"))\n",
    "    if guess_1==answer:\n",
    "        print(\"you got this time \")\n",
    "    else:\n",
    "            print(\"you have guessed wrongly\")\n",
    "    \n",
    "    \n",
    "    "
   ]
  },
  {
   "cell_type": "code",
   "execution_count": 1,
   "id": "ce79cd85",
   "metadata": {},
   "outputs": [
    {
     "name": "stdout",
     "output_type": "stream",
     "text": [
      "bye\n",
      "please enter your name \n",
      "you are a person with no name \n"
     ]
    }
   ],
   "source": [
    "# Truthy value: any object can be tested for truth value, for use in  an 'if' and 'while' condition\n",
    "# constants that are considerd false: None, False\n",
    "# Zero of any numeric type: 0, 0.0,0j, Decimal(0), fraction(0,1)\n",
    "# empty sequences and collection(including empty string): '',(),[],{},set(),range(0)\n",
    "if :\n",
    "    print(\"hello\")\n",
    "else:\n",
    "    print(\"bye\")\n",
    "    \n",
    "name=input(\"please enter your name \")\n",
    "if name:\n",
    "    print(f\"your are a good person {name}\")\n",
    "else:\n",
    "    print(\"you are a person with no name \")\n"
   ]
  },
  {
   "cell_type": "code",
   "execution_count": 5,
   "id": "644610cb",
   "metadata": {},
   "outputs": [
    {
     "name": "stdout",
     "output_type": "stream",
     "text": [
      "Please enter a letter: m\n",
      "Sorry\n",
      "********************************************************************************\n",
      "sorry\n"
     ]
    }
   ],
   "source": [
    "# 'in' and 'not in' condition (string casefold function is used: it is used to lowercase  the string but better then lower function)\n",
    "\n",
    "parrot=\"Norwegian Blue\"\n",
    "letter=input(\"Please enter a letter: \")\n",
    "\n",
    "if letter in parrot.casefold():\n",
    "    print(\"{} is in {}\".format(letter,parrot))\n",
    "else:\n",
    "    print(\"Sorry\")\n",
    "    \n",
    "# Note in the above program if casefold is not used b will print sorry as its casesensitive\n",
    "print(\"*\"*80)\n",
    "\n",
    "if letter not in parrot.casefold():\n",
    "    print('sorry')\n",
    "else:\n",
    "    print(f\"{letter} is in {parrot}\")"
   ]
  },
  {
   "cell_type": "markdown",
   "id": "108dacbd",
   "metadata": {},
   "source": [
    "## Common String methods"
   ]
  },
  {
   "cell_type": "code",
   "execution_count": 10,
   "id": "16340d55",
   "metadata": {},
   "outputs": [
    {
     "name": "stdout",
     "output_type": "stream",
     "text": [
      "Hello bh nh\n"
     ]
    }
   ],
   "source": [
    "# Convert string to lowercase\n",
    "my_string = \"Hello, World!\"\n",
    "lower_string = my_string.lower()  # Output: \"hello, world!\"\n",
    "\n",
    "# Convert string to uppercase\n",
    "upper_string = my_string.upper()  # Output: \"HELLO, WORLD!\"\n",
    "\n",
    "# Remove leading and trailing whitespace\n",
    "my_string = \"   Hello bh nh \"\n",
    "stripped_string = my_string.strip()# Output: \"Hello\"\n",
    "print(stripped_string)\n",
    "# Split string into a list of substrings\n",
    "my_string = \"apple,banana,cherry\"\n",
    "fruits = my_string.split(\",\")  # Output: ['apple', 'banana', 'cherry']\n",
    "\n",
    "# Join elements of a list with a separator\n",
    "fruits = ['apple', 'banana', 'cherry']\n",
    "joined_string = ', '.join(fruits)  # Output: \"apple, banana, cherry\"\n",
    "\n",
    "# Replace occurrences of a substring\n",
    "my_string = \"Hello, World!\"\n",
    "replaced_string = my_string.replace(\"World\", \"Python\")  # Output: \"Hello, Python!\"\n",
    "\n",
    "# Check if string starts or ends with a prefix or suffix\n",
    "my_string = \"Hello, World!\"\n",
    "starts_with_hello = my_string.startswith(\"Hello\")  # Output: True\n",
    "ends_with_exclamation = my_string.endswith(\"!\")  # Output: True\n",
    "\n",
    "# Find the first occurrence of a substring\n",
    "my_string = \"Hello, World!\"\n",
    "position = my_string.find(\"World\")  # Output: 7\n",
    "\n",
    "# Check if all characters are alphabetic, numeric, or alphanumeric\n",
    "alpha_check = \"abc\".isalpha()  # Output: True\n",
    "digit_check = \"123\".isdigit()  # Output: True\n",
    "alnum_check = \"abc123\".isalnum()# Output: True\n",
    "numeric_check='232'.isnumeric() # output: True\n",
    "# Capitalize first character of a string\n",
    "my_string = \"hello world\"\n",
    "capitalized_string = my_string.capitalize()  # Output: \"Hello world\"\n",
    "\n",
    "# Capitalize first character of each word\n",
    "titled_string = my_string.title()  # Output: \"Hello World\"\n",
    "\n",
    "# Count occurrences of a substring\n",
    "my_string = \"apple, banana, cherry, apple\"\n",
    "count_apple = my_string.count(\"apple\")  # Output: 2\n"
   ]
  },
  {
   "cell_type": "code",
   "execution_count": null,
   "id": "355f37d4",
   "metadata": {},
   "outputs": [],
   "source": []
  }
 ],
 "metadata": {
  "kernelspec": {
   "display_name": "Python 3 (ipykernel)",
   "language": "python",
   "name": "python3"
  },
  "language_info": {
   "codemirror_mode": {
    "name": "ipython",
    "version": 3
   },
   "file_extension": ".py",
   "mimetype": "text/x-python",
   "name": "python",
   "nbconvert_exporter": "python",
   "pygments_lexer": "ipython3",
   "version": "3.10.9"
  }
 },
 "nbformat": 4,
 "nbformat_minor": 5
}

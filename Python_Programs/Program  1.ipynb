{
 "cells": [
  {
   "cell_type": "code",
   "execution_count": 1,
   "id": "8372abaf",
   "metadata": {},
   "outputs": [
    {
     "name": "stdout",
     "output_type": "stream",
     "text": [
      "Hello World!\n"
     ]
    }
   ],
   "source": [
    "# print hello world\n",
    "print(\"Hello World!\")"
   ]
  },
  {
   "cell_type": "code",
   "execution_count": 2,
   "id": "31b4ed86",
   "metadata": {},
   "outputs": [
    {
     "name": "stdout",
     "output_type": "stream",
     "text": [
      "3\n",
      "14\n",
      "4\n",
      "is this the end         or not\n"
     ]
    }
   ],
   "source": [
    "# Print function usage\n",
    "print(1+2)\n",
    "print(7*2)\n",
    "print(8//2)\n",
    "print(\"is this the end\",\"        or not\")"
   ]
  },
  {
   "cell_type": "code",
   "execution_count": 3,
   "id": "8caf080e",
   "metadata": {},
   "outputs": [
    {
     "name": "stdout",
     "output_type": "stream",
     "text": [
      "shiva is a 'superhero'\n",
      "shiva yadav\n",
      "Enter your first Name Please Shiva\n",
      "Enter your last Name please Yadav\n",
      "Shiva Yadav\n"
     ]
    }
   ],
   "source": [
    "# Concatenation in strings and printing \"\" or '' in text\n",
    "print(\"shiva is a 'superhero'\")\n",
    "\n",
    "# String Concatenation\n",
    "print(\"shiva\"+' '+ \"yadav\")\n",
    "\n",
    "first_name= input(\"Enter your first Name Please \")\n",
    "last_name= input (\"Enter your last Name please \")\n",
    "\n",
    "User_name=print(first_name+' '+last_name)"
   ]
  },
  {
   "cell_type": "code",
   "execution_count": 4,
   "id": "820deced",
   "metadata": {},
   "outputs": [
    {
     "name": "stdout",
     "output_type": "stream",
     "text": [
      "this string\n",
      " is spllited\n",
      " over \n",
      " serveral \n",
      " lines\n",
      "1\t 2\t3\n",
      " hello bhaiya \"yadav ji\"\n",
      " hello bhaiya 'sahu ji'\n",
      " kya hi \"ker rahe\" ho 'yadav' \"ji\" \n",
      "kya\n",
      "ker\n",
      "rahe\n",
      "ho\n",
      "kya ker rahe ho\n"
     ]
    }
   ],
   "source": [
    "# Splitted String\n",
    "splitted_string= \"this string\\n is spllited\\n over \\n serveral \\n lines\"\n",
    "print(splitted_string)\n",
    "\n",
    "# Tabbed_string\n",
    "tabbed_string= \"1\\t 2\\t3\"\n",
    "print(tabbed_string)\n",
    "\n",
    "# to print '' or \"\" in text using escape characters(To insert characters that are illegal in geeneral in a string)\n",
    "print(\" hello bhaiya \\\"yadav ji\\\"\")\n",
    "print(\" hello bhaiya \\'sahu ji\\'\")\n",
    "\n",
    "# best way is to use \"\"\"\"\"\" (triple quotes)\n",
    "print(\"\"\" kya hi \"ker rahe\" ho 'yadav' \"ji\" \"\"\")\n",
    "\n",
    "splitted_stringg=\"\"\"kya\n",
    "ker\n",
    "rahe\n",
    "ho\"\"\"\n",
    "print(splitted_stringg)\n",
    "\n",
    "# to print above text in single line use \\\n",
    "splitted_stringgs = \"\"\"kya\\\n",
    " ker\\\n",
    " rahe\\\n",
    " ho\"\"\"\n",
    "print(splitted_stringgs)"
   ]
  },
  {
   "cell_type": "code",
   "execution_count": 5,
   "id": "1c6ba2d6",
   "metadata": {},
   "outputs": [
    {
     "name": "stdout",
     "output_type": "stream",
     "text": [
      "α\n",
      "α\n",
      "c:\tim\n",
      "obita\n",
      "c\\tim\\nobita\n",
      "c\\tim\\nobita\n"
     ]
    }
   ],
   "source": [
    "# Note # Using Unicode escape sequence\n",
    "print(\"\\u03B1\")  # This will print the Greek letter \"α\" (alpha)\n",
    "\n",
    "# Using the actual character directly\n",
    "print(\"α\")\n",
    "\n",
    "## Printing slash in python\n",
    "\n",
    "print(\"c:\\tim\\nobita\")\n",
    "\n",
    "print(\"c\\\\tim\\\\nobita\")\n",
    "print(r\"c\\tim\\nobita\")  # raw string is used to enter the backslash\n"
   ]
  },
  {
   "cell_type": "code",
   "execution_count": 6,
   "id": "a55f67da",
   "metadata": {},
   "outputs": [
    {
     "name": "stdout",
     "output_type": "stream",
     "text": [
      "shuva\n",
      "shuva\n",
      "shiva\n"
     ]
    }
   ],
   "source": [
    "# string assignment as strings are immutable\n",
    "string='shiva'\n",
    "a=string.replace('i','u')\n",
    "b=string.replace(string[2],'u')\n",
    "print(a)\n",
    "print(b)\n",
    "print(string)"
   ]
  },
  {
   "cell_type": "code",
   "execution_count": 7,
   "id": "aba1a07b",
   "metadata": {},
   "outputs": [
    {
     "name": "stdout",
     "output_type": "stream",
     "text": [
      "<class 'str'>\n",
      "<class 'int'>\n",
      "<class 'str'>\n",
      "<class 'list'>\n",
      "<class 'dict'>\n"
     ]
    }
   ],
   "source": [
    "# Type of variable\n",
    "\n",
    "string='shiva'\n",
    "xyz=23\n",
    "print(type(string))\n",
    "print(type(xyz))\n",
    "xyz='mukesh'\n",
    "print(type(xyz))\n",
    "list_1=[2,3]\n",
    "dictionary_1={1:['a','b']}\n",
    "print(type(list_1))\n",
    "print(type(dictionary_1))"
   ]
  },
  {
   "cell_type": "code",
   "execution_count": 8,
   "id": "12a33c5d",
   "metadata": {},
   "outputs": [],
   "source": [
    "# Python is strongly typed language\n",
    "#TypeError: can only concatenate str (not \"int\") to str\n",
    "\n",
    "a='shiva'\n",
    "b=23\n",
    "# print(a+b) it will produce error"
   ]
  },
  {
   "cell_type": "code",
   "execution_count": 9,
   "id": "51c4884a",
   "metadata": {},
   "outputs": [
    {
     "name": "stdout",
     "output_type": "stream",
     "text": [
      "16\n",
      "10\n",
      "39\n",
      "4.333333333333333\n",
      "4\n",
      "-5\n",
      "1\n",
      "--------------------------------------------------\n",
      "1\n",
      "2\n",
      "3\n"
     ]
    }
   ],
   "source": [
    "# Numeric Operators in python\n",
    "a=13   # here 13 is an expression but a is not an expression\n",
    "b=3\n",
    "print(a+b) # here a+b is called as expression\n",
    "print(a-b)\n",
    "print(a*b)  # multiplication return integer if a and b are integer type\n",
    "print(a/b) # the division gives float as an output\n",
    "print(a//b)# integer division returns a intger value( rounded towards minus infinity)\n",
    "print(-a//b)#---------------------note this-------------kam wali value deta hai\n",
    "print(a%b)  # 0 modulo: it returns the remainder after division\n",
    "\n",
    "# for i in range(1,a/b): # it will produce errors (TypeError: 'float' object cannot be interpreted as an integer)\n",
    "#     print(i)\n",
    "print(\"-\"*50)    \n",
    "for i in range(1,a//b): \n",
    "    print(i)\n",
    "    "
   ]
  },
  {
   "cell_type": "code",
   "execution_count": 10,
   "id": "a8c0c5c6",
   "metadata": {},
   "outputs": [
    {
     "name": "stdout",
     "output_type": "stream",
     "text": [
      "0.1111111111111111\n"
     ]
    }
   ],
   "source": [
    "# operator precedence BODMAS( note that division & multiplication, addition and subtraction have same precedence)\n",
    "# expression with equal precedence are evaluated from left to right\n",
    "# paranthesis can be used to set orders\n",
    "\n",
    "a=12\n",
    "b=3\n",
    "print(a/(b*a)/b) # here b*a--> a/b*a --> result /b\n"
   ]
  },
  {
   "cell_type": "code",
   "execution_count": 11,
   "id": "04ad101b",
   "metadata": {},
   "outputs": [
    {
     "name": "stdout",
     "output_type": "stream",
     "text": [
      "w\n",
      "e\n",
      " \n",
      "w\n",
      "i\n",
      "n\n",
      "--------------------------------------------------\n",
      "B\n",
      "l\n",
      "u\n",
      "e\n"
     ]
    }
   ],
   "source": [
    "parrot = \"Norwegian Blue\"\n",
    "print(parrot[3])\n",
    "print(parrot[4])\n",
    "print(parrot[9])\n",
    "\n",
    "print(parrot[3])\n",
    "print(parrot[6])\n",
    "print(parrot[8])\n",
    "\n",
    "# Negative string indexing \n",
    "print(\"-\"*50) \n",
    "print(parrot[-4])\n",
    "print(parrot[-3])\n",
    "print(parrot[-2])\n",
    "print(parrot[-1])"
   ]
  },
  {
   "cell_type": "code",
   "execution_count": 12,
   "id": "78b0f3d4",
   "metadata": {},
   "outputs": [
    {
     "name": "stdout",
     "output_type": "stream",
     "text": [
      "--------------------------------------------------\n",
      "Blue\n",
      "Blue\n",
      "Norwegian Blue\n",
      "Norwegian\n",
      "--------------------------------------------------\n",
      "Nrein\n",
      "--------------------------------------------------\n",
      "Norwegian Blue\n",
      "--------------------------------------------------\n",
      "\n",
      "88888888888888888888888888888888888888888888888888888888888888888888888888888888\n",
      "\n",
      "Norwegian Blu\n",
      "--------------------------------------------------\n"
     ]
    }
   ],
   "source": [
    "# String slicing  \n",
    "# Slicing [start : stop : step]\n",
    "parrot = \"Norwegian Blue\"\n",
    "print(\"-\"*50) \n",
    "print(parrot[10:14]) # default step size is one\n",
    "print(parrot[10:])  # default stop is end of the index\n",
    "\n",
    "print(parrot[:])  # if nothing is mentioned complete indexes gets printed\n",
    "print(parrot[:9]) # default start is 0\n",
    "\n",
    "print(\"-\"*50) \n",
    "print(parrot[0:9:2]) # one index is skipped here\n",
    "\n",
    "# string concatenation with slicing \n",
    "print(\"-\"*50) \n",
    "print(parrot[:6] + parrot[6:])\n",
    "\n",
    "# Using Negative Indexing \n",
    "print(\"-\"*50) \n",
    "print(parrot[-14:0])\n",
    "print('8'*80)\n",
    "print(parrot[-1:-8])  # *****this won't work as its always from left to right********\n",
    "print(parrot[:-1]) # note here last character won't be printed\n",
    "print(\"-\"*50) \n",
    "\n"
   ]
  },
  {
   "cell_type": "code",
   "execution_count": 13,
   "id": "fb6decb7",
   "metadata": {},
   "outputs": [
    {
     "name": "stdout",
     "output_type": "stream",
     "text": [
      "Bl\n",
      "Bl\n",
      "--------------------------------------------------\n",
      ",,,,\n",
      "--------------------------------------------------\n",
      "[2, 321, 433, 343, 343]\n"
     ]
    }
   ],
   "source": [
    "# note both will produce the same result(we can mix negative and positive slicing )\n",
    "print(parrot[-4:12])\n",
    "print(parrot[-4:-2])\n",
    "\n",
    "# slicing example\n",
    "print(\"-\"*50) \n",
    "a=\"2,321,433,343,343\"\n",
    "print(a[1::4])\n",
    "\n",
    "print(\"-\"*50) \n",
    "number = \"2,321;433:343'343\"\n",
    "separators = number[1::4]\n",
    "values = ''.join(char if char not in separators else \" \" for char in number).split() # join to give 2 321 433 343 343\n",
    "# while split is used to split string( values) on the basis of white space by default\n",
    "print([int(val) for val in values])"
   ]
  },
  {
   "cell_type": "code",
   "execution_count": 14,
   "id": "10826145",
   "metadata": {},
   "outputs": [
    {
     "name": "stdout",
     "output_type": "stream",
     "text": [
      "zyxwvutsrqponmlkjihgfedcb\n",
      "--------------------------------------------------\n",
      "zyxwvutsrqponmlkjihgfedcba\n",
      "--------------------------------------------------\n",
      "zyxwvutsrqponmlkjihgfedcba\n",
      "--------------------------------------------------\n",
      "\n"
     ]
    }
   ],
   "source": [
    "# Reversing the sequence using negative step value\n",
    "letters= 'abcdefghijklmnopqrstuvwxyz'\n",
    "print(letters[25:0:-1]) # it will reverse the sequence but wont include the letter a \n",
    "print(\"-\"*50) \n",
    "print(letters[25::-1])  # a gets included , can't use -1 as stop value here\n",
    "print(\"-\"*50) \n",
    "\n",
    "## python IDIOM\n",
    "print(letters[::-1]) # reverse the sequence\n",
    "\n",
    "print(\"-\"*50) \n",
    "empty=''\n",
    "print(empty[:1])\n",
    "# print(empty[0]) # it will produce error [IndexError]`"
   ]
  },
  {
   "cell_type": "code",
   "execution_count": 3,
   "id": "0a1dc998",
   "metadata": {},
   "outputs": [
    {
     "name": "stdout",
     "output_type": "stream",
     "text": [
      "friday friday friday friday friday \n",
      "--------------------------------------------------\n",
      "friday friday friday friday friday 4\n",
      "--------------------------------------------------\n",
      "True\n",
      "True\n",
      "False\n"
     ]
    }
   ],
   "source": [
    "# Sequence operators\n",
    "today='friday '\n",
    "print(today*5)\n",
    "print(\"-\"*50) \n",
    "# print(today*5+4)    # this will produce error as strings and numbers can't be added\n",
    "print(today*5 +\"4\")   # this will add 4 at the end\n",
    "\n",
    "print('-'*50)\n",
    "\n",
    "# checking substring presence in string\n",
    "\n",
    "print('day' in today)     # True\n",
    "print(\"fri\" in today)     # True\n",
    "print(\"hey\" in today)     # False"
   ]
  },
  {
   "cell_type": "code",
   "execution_count": 16,
   "id": "62162282",
   "metadata": {},
   "outputs": [
    {
     "name": "stdout",
     "output_type": "stream",
     "text": [
      "my age is 24 old\n",
      "my age is 23, and my father's is 55, while my mothers age is 44\n",
      "\n",
      "jan:31\n",
      "feb:28\n",
      "mar:31\n",
      "apr:30\n",
      "\n",
      "--------------------------------------------------\n",
      "my age is 24 and i live in london\n"
     ]
    }
   ],
   "source": [
    "# String replacement fields({} is the symbol)\n",
    "# {field value: field width .  precision with f in it}\n",
    "age =24\n",
    "print(\"my age is \" + str(age) + \" old\")\n",
    "\n",
    "print(\"my age is {0}, and my father's is {2}, while my mothers age is {1}\".format(23,44,55))\n",
    "print(\"\"\"\n",
    "jan:{0}\n",
    "feb:{1}\n",
    "mar:{3}\n",
    "apr:{2}\n",
    "\"\"\".format(31,28,30,31))\n",
    "\n",
    "print(\"-\"*50)\n",
    "print(\"my age is {} and i live in {}\".format(24,\"london\")) # here we haven't given the field number "
   ]
  },
  {
   "cell_type": "code",
   "execution_count": 5,
   "id": "33812ee7",
   "metadata": {},
   "outputs": [
    {
     "name": "stdout",
     "output_type": "stream",
     "text": [
      " the no. is 1 and its square is 1 and its  cube is 1 \n",
      " the no. is 2 and its square is 4 and its  cube is 8 \n",
      " the no. is 3 and its square is 9 and its  cube is 27 \n",
      " the no. is 4 and its square is 16 and its  cube is 64 \n",
      " the no. is 5 and its square is 25 and its  cube is 125 \n",
      " the no. is 6 and its square is 36 and its  cube is 216 \n",
      " the no. is 7 and its square is 49 and its  cube is 343 \n",
      " the no. is 8 and its square is 64 and its  cube is 512 \n",
      " the no. is 9 and its square is 81 and its  cube is 729 \n",
      " the no. is 10 and its square is 100 and its  cube is 1000 \n",
      " the no. is 11 and its square is 121 and its  cube is 1331 \n",
      " the no. is 12 and its square is 144 and its  cube is 1728 \n",
      "--------------------------------------------------\n",
      "the no. is  1 and its square is   1 and its cube is    1\n",
      "the no. is  2 and its square is   4 and its cube is    8\n",
      "the no. is  3 and its square is   9 and its cube is   27\n",
      "the no. is  4 and its square is  16 and its cube is   64\n",
      "the no. is  5 and its square is  25 and its cube is  125\n",
      "the no. is  6 and its square is  36 and its cube is  216\n",
      "the no. is  7 and its square is  49 and its cube is  343\n",
      "the no. is  8 and its square is  64 and its cube is  512\n",
      "the no. is  9 and its square is  81 and its cube is  729\n",
      "the no. is 10 and its square is 100 and its cube is 1000\n",
      "the no. is 11 and its square is 121 and its cube is 1331\n",
      "the no. is 12 and its square is 144 and its cube is 1728\n",
      "--------------------------------------------------\n",
      "the no. is 1  and its square is 1   and its cube is 1   \n",
      "the no. is 2  and its square is 4   and its cube is 8   \n",
      "the no. is 3  and its square is 9   and its cube is 27  \n",
      "the no. is 4  and its square is 16  and its cube is 64  \n",
      "the no. is 5  and its square is 25  and its cube is 125 \n",
      "the no. is 6  and its square is 36  and its cube is 216 \n",
      "the no. is 7  and its square is 49  and its cube is 343 \n",
      "the no. is 8  and its square is 64  and its cube is 512 \n",
      "the no. is 9  and its square is 81  and its cube is 729 \n",
      "the no. is 10 and its square is 100 and its cube is 1000\n",
      "the no. is 11 and its square is 121 and its cube is 1331\n",
      "the no. is 12 and its square is 144 and its cube is 1728\n"
     ]
    }
   ],
   "source": [
    "# String Formatting ( supports both name and index formating )\n",
    "# name formatting is displayed in f-string examples not here\n",
    "for i in range(1,13):\n",
    "    print(' the no. is {0} and its square is {1} and its  cube is {2} '.format(i,i**2,i**3))\n",
    "\n",
    "\n",
    "# printing above code in a beautiful manner\n",
    "print(\"-\"*50)    \n",
    "for i in range(1,13):\n",
    "    print('the no. is {0:2} and its square is {1:3} and its cube is {2:4}'.format(i,i**2,i**3)) \n",
    "    # {0:2} here 0 shows index while 2(field width) shows space reserved for values \n",
    "\n",
    "# # for left allignement    \n",
    "# print(\"-\"*50)    \n",
    "# for i in range(1,13):\n",
    "#     print('the no. is {0:<2} and its square is {1:<3} and its cube is {2:<4}'.format(i,i**2,i**3)) \n",
    "\n",
    "# # for center allignement use carrot^    \n",
    "# print(\"-\"*50)    \n",
    "# for i in range(1,13):\n",
    "#     print('the no. is {0:2} and its square is {1:^3} and its cube is {2:^4}'.format(i,i**2,i**3)) "
   ]
  },
  {
   "cell_type": "code",
   "execution_count": 8,
   "id": "75e4b63d",
   "metadata": {},
   "outputs": [
    {
     "name": "stdout",
     "output_type": "stream",
     "text": [
      "pi is approximately 3.142857142857143\n",
      "pi is approximately     3.142857\n",
      "pi is approximately 3.14285714285714279370154144999105483293533325195312\n",
      "--------------------------------------------------\n",
      "pi is approximately 3.142857142857142793701541449991054832935333251953125000                \n",
      "pi is approximately 3.142857142857142793701541449991054832935333251953125000000000          \n"
     ]
    }
   ],
   "source": [
    "# floating point value\n",
    "print(\"pi is approximately {0:12}\".format(22/7))   # default is 15 values after the decimal\n",
    "print(\"pi is approximately {0:12f}\".format(22/7)) # when f is used 6 values gets printed after the decimal\n",
    "print(\"pi is approximately {0:12.50f}\".format(22/7)) #priority given to precision instead of field width (50f supersedes 12)\n",
    "\n",
    "print(50*\"-\")\n",
    "\n",
    "# In python precision lies bw 51f and 53f\n",
    "\n",
    "print(\"pi is approximately {0:<72.54f}\".format(22/7))# just zeros are added here after 51\n",
    "print(\"pi is approximately {0:<72.60f}\".format(22/7))"
   ]
  },
  {
   "cell_type": "code",
   "execution_count": 11,
   "id": "a4396e2f",
   "metadata": {},
   "outputs": [
    {
     "name": "stdout",
     "output_type": "stream",
     "text": [
      "my name is shiva and my age is 24\n",
      "value of pi is 3.14285714285714279370154144999105483293533325195312\n"
     ]
    }
   ],
   "source": [
    "# Python 3.6 introduced f-string concept or formatted string \n",
    "# here instead of format you use f-string \n",
    "# in f string you can directly add expression and variables names directly(name formatting) without using indexing\n",
    "name='shiva'\n",
    "age=24\n",
    "print(f\"my name is {name} and my age is {age}\")\n",
    "print(f\"value of pi is {22/7:12.50f}\")"
   ]
  },
  {
   "cell_type": "code",
   "execution_count": null,
   "id": "547ea944",
   "metadata": {},
   "outputs": [],
   "source": []
  }
 ],
 "metadata": {
  "kernelspec": {
   "display_name": "Python 3 (ipykernel)",
   "language": "python",
   "name": "python3"
  },
  "language_info": {
   "codemirror_mode": {
    "name": "ipython",
    "version": 3
   },
   "file_extension": ".py",
   "mimetype": "text/x-python",
   "name": "python",
   "nbconvert_exporter": "python",
   "pygments_lexer": "ipython3",
   "version": "3.10.9"
  }
 },
 "nbformat": 4,
 "nbformat_minor": 5
}
